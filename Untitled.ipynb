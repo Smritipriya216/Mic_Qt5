{
 "cells": [
  {
   "cell_type": "code",
   "execution_count": null,
   "id": "2bbee8d3",
   "metadata": {},
   "outputs": [],
   "source": [
    "from PyQt5.QtWidgets import QMainWindow,QLabel,QApplication,QPushButton,QLineEdit,QTextBrowser\n",
    "from PyQt5 import uic\n",
    "import sys\n",
    "\n",
    "import speech_recognition as sr\n",
    "import pyttsx3"
   ]
  },
  {
   "cell_type": "code",
   "execution_count": null,
   "id": "41f39782",
   "metadata": {},
   "outputs": [],
   "source": []
  }
 ],
 "metadata": {
  "kernelspec": {
   "display_name": "Python 3",
   "language": "python",
   "name": "python3"
  }
 },
 "nbformat": 4,
 "nbformat_minor": 5
}
